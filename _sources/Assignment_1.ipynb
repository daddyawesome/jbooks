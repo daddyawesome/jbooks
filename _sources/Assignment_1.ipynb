{
  "nbformat": 4,
  "nbformat_minor": 0,
  "metadata": {
    "colab": {
      "name": "Assignment1.ipynb",
      "provenance": [],
      "authorship_tag": "ABX9TyNqwCO+x7RCWrsCpbmbYEzZ",
      "include_colab_link": true
    },
    "kernelspec": {
      "name": "python3",
      "display_name": "Python 3"
    }
  },
  "cells": [
    {
      "cell_type": "markdown",
      "metadata": {
        "id": "view-in-github",
        "colab_type": "text"
      },
      "source": [
        "<a href=\"https://colab.research.google.com/github/daddyawesome/jbooks/blob/master/Assignment_1.ipynb\" target=\"_parent\"><img src=\"https://colab.research.google.com/assets/colab-badge.svg\" alt=\"Open In Colab\"/></a>"
      ]
    },
    {
      "cell_type": "markdown",
      "metadata": {
        "id": "-3vaJXum5FzI"
      },
      "source": [
        "# Exercises\n",
        "\n",
        "Welcome to your first set of Python coding problems! \n",
        "\n",
        "To get started, try running the code cell below (by pressing the ► button, or clicking on the cell and pressing ctrl+enter on your keyboard)."
      ]
    },
    {
      "cell_type": "code",
      "metadata": {
        "id": "qCWA43X15C5i"
      },
      "source": [
        "print(\"You've successfully run some Python code\")\n",
        "print(\"Congratulations!\")"
      ],
      "execution_count": null,
      "outputs": []
    },
    {
      "cell_type": "markdown",
      "metadata": {
        "id": "z-fDdO2b5o4m"
      },
      "source": [
        "Try adding another line of code in the cell above and re-running it. \n",
        "\n",
        "Now let's get a little fancier:  Add a new code cell by clicking on an existing code cell, hitting the escape key, and then hitting the `a` or `b` key.  The `a` key will add a cell above the current cell, and `b` adds a cell below.\n",
        "\n",
        "Great! Now you know how to use Notebooks.\n",
        "\n",
        "Each hands-on exercise starts by setting up our feedback and code checking mechanism. Run the code cell below to do that. Then you'll be ready to move on to question 0."
      ]
    },
    {
      "cell_type": "markdown",
      "metadata": {
        "id": "kVa5ebit6EJJ"
      },
      "source": [
        "<hr/>\n",
        "\n",
        "## 0.\n",
        "\n",
        "*This is a silly question intended as an introduction *\n",
        "\n",
        "**What is your favorite color? **\n",
        "\n",
        "To complete this question, create a variable called `color` in the cell below with an appropriate value. "
      ]
    },
    {
      "cell_type": "code",
      "metadata": {
        "id": "hDhnvshG6KGR"
      },
      "source": [
        "# create a variable called color with an appropriate value on the line below\n",
        "# (Remember, strings in Python must be enclosed in 'single' or \"double\" quotes)\n",
        "____"
      ],
      "execution_count": null,
      "outputs": []
    },
    {
      "cell_type": "markdown",
      "metadata": {
        "id": "jFKTQhJP6M_B"
      },
      "source": [
        "<hr/>\n",
        "\n",
        "## 1.\n",
        "\n",
        "Complete the code below. In case it's helpful, here is the table of available arithmetic operations:\n",
        "\n",
        "\n",
        "\n",
        "| Operator     | Name           | Description                                            |\n",
        "|--------------|----------------|--------------------------------------------------------|\n",
        "| ``a + b``    | Addition       | Sum of ``a`` and ``b``                                 |\n",
        "| ``a - b``    | Subtraction    | Difference of ``a`` and ``b``                          |\n",
        "| ``a * b``    | Multiplication | Product of ``a`` and ``b``                             |\n",
        "| ``a / b``    | True division  | Quotient of ``a`` and ``b``                            |\n",
        "| ``a // b``   | Floor division | Quotient of ``a`` and ``b``, removing fractional parts |\n",
        "| ``a % b``    | Modulus        | Integer remainder after division of ``a`` by ``b``     |\n",
        "| ``a ** b``   | Exponentiation | ``a`` raised to the power of ``b``                     |\n",
        "| ``-a``       | Negation       | The negative of ``a``                                  |\n",
        "\n",
        "<span style=\"display:none\"></span>"
      ]
    },
    {
      "cell_type": "code",
      "metadata": {
        "id": "urYHpwgU6XRJ"
      },
      "source": [
        "pi = 3.14159 # approximate\n",
        "diameter = 3\n",
        "\n",
        "# Create a variable called 'radius' equal to half the diameter\n",
        "____\n",
        "\n",
        "# Create a variable called 'area', using the formula for the area of a circle: pi times the radius squared\n",
        "____"
      ],
      "execution_count": null,
      "outputs": []
    },
    {
      "cell_type": "markdown",
      "metadata": {
        "id": "now_r2S56iKQ"
      },
      "source": [
        "<hr/>\n",
        "\n",
        "## 2.\n",
        "\n",
        "Add code to the following cell to swap variables `a` and `b` (so that `a` refers to the object previously referred to by `b` and vice versa)."
      ]
    },
    {
      "cell_type": "code",
      "metadata": {
        "id": "95l_AoCn6iuw"
      },
      "source": [
        "########### Setup code - don't touch this part ######################\n",
        "# If you're curious, these are examples of lists. We'll talk about \n",
        "# them in depth a few lessons from now. For now, just know that they're\n",
        "# yet another type of Python object, like int or float.\n",
        "a = [1, 2, 3]\n",
        "b = [3, 2, 1]\n",
        "\n",
        "######################################################################\n",
        "\n",
        "# Your code goes here. Swap the values to which a and b refer.\n",
        "\n",
        "\n",
        "######################################################################"
      ],
      "execution_count": null,
      "outputs": []
    },
    {
      "cell_type": "markdown",
      "metadata": {
        "id": "c1ZTWDCY8pqG"
      },
      "source": [
        "<hr/>\n",
        "\n",
        "## 3.\n",
        "\n",
        "a) Add parentheses to the following expression so that it evaluates to 1."
      ]
    },
    {
      "cell_type": "code",
      "metadata": {
        "id": "-bjfbfoM8sY7"
      },
      "source": [
        "5 - 3 // 2"
      ],
      "execution_count": null,
      "outputs": []
    },
    {
      "cell_type": "markdown",
      "metadata": {
        "id": "R2XaINz286up"
      },
      "source": [
        "<small>Questions, like this one, marked a spicy pepper are a bit harder.</small>\n",
        "\n",
        "b) <span title=\"A bit spicy\" style=\"color: darkgreen \">🌶️</span> Add parentheses to the following expression so that it evaluates to 0"
      ]
    },
    {
      "cell_type": "code",
      "metadata": {
        "id": "EHXWkxvM9D1J"
      },
      "source": [
        "8 - 3 * 2 - 1 + 1"
      ],
      "execution_count": null,
      "outputs": []
    },
    {
      "cell_type": "markdown",
      "metadata": {
        "id": "jZvCBjXc9gRo"
      },
      "source": [
        "<hr/>\n",
        "\n",
        "## 4. \n",
        "Alice, Bob and Carol have agreed to pool their Halloween candy and split it evenly among themselves.\n",
        "For the sake of their friendship, any candies left over will be smashed. For example, if they collectively\n",
        "bring home 91 candies, they'll take 30 each and smash 1.\n",
        "\n",
        "Write an arithmetic expression below to calculate how many candies they must smash for a given haul."
      ]
    },
    {
      "cell_type": "code",
      "metadata": {
        "id": "8cTOgVa39tIv"
      },
      "source": [
        "# Variables representing the number of candies collected by alice, bob, and carol\n",
        "alice_candies = 121\n",
        "bob_candies = 77\n",
        "carol_candies = 109\n",
        "\n",
        "# Your code goes here! Replace the right-hand side of this assignment with an expression\n",
        "# involving alice_candies, bob_candies, and carol_candies\n",
        "to_smash = (replace this)"
      ],
      "execution_count": null,
      "outputs": []
    },
    {
      "cell_type": "markdown",
      "metadata": {
        "id": "fB1wR29S-HrG"
      },
      "source": [
        "#That is all folks.\n",
        "\n",
        "Be sure to submit this assignment by clicking share then copy link.\n",
        "Link should be pasted on your assignment page in classroom. "
      ]
    }
  ]
}